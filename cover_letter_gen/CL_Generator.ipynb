{
 "cells": [
  {
   "cell_type": "markdown",
   "id": "bc472cfe-a9fc-4064-a15c-fd24ea82810f",
   "metadata": {},
   "source": [
    "## Cover Letter Generator using OpenAI API"
   ]
  },
  {
   "cell_type": "code",
   "execution_count": 105,
   "id": "cd40aed5-7969-4f8f-9baf-267656fa25b5",
   "metadata": {},
   "outputs": [],
   "source": [
    "import time\n",
    "import openai\n",
    "from fpdf import FPDF"
   ]
  },
  {
   "cell_type": "markdown",
   "id": "23c62294-8cee-46b4-9f22-5d3a0cef8391",
   "metadata": {},
   "source": [
    "#### Import Files"
   ]
  },
  {
   "cell_type": "code",
   "execution_count": 106,
   "id": "21bd64b7-4a8d-42bd-9cf7-89a9cdc0ff97",
   "metadata": {},
   "outputs": [],
   "source": [
    "# import the API key from a file\n",
    "with open(\"api_key.txt\", \"r\") as file:\n",
    "    api_key = file.read()\n",
    "\n",
    "# import the prompting files\n",
    "with open(\"template.txt\", \"r\") as file:\n",
    "    template = file.read()\n",
    "with open(\"work_exp.txt\", \"r\") as file:\n",
    "    work_exp_content = file.read()\n",
    "with open(\"job_description.txt\", \"r\") as file:\n",
    "    job_desc_content = file.read()"
   ]
  },
  {
   "cell_type": "markdown",
   "id": "d4e55588-219b-4a93-8ce9-3ff0593ffa63",
   "metadata": {},
   "source": [
    "#### Build Assistant, Prompt, and Run"
   ]
  },
  {
   "cell_type": "code",
   "execution_count": 107,
   "id": "c46bab30-cde1-486e-86e0-2d18f467a77d",
   "metadata": {},
   "outputs": [
    {
     "name": "stdout",
     "output_type": "stream",
     "text": [
      "checking assistant status. \n",
      "in progress...\n",
      "in progress...\n",
      "done!\n"
     ]
    }
   ],
   "source": [
    "# insert key\n",
    "client = OpenAI(api_key=api_key)\n",
    "\n",
    "# building assistant\n",
    "assistant = client.beta.assistants.create(\n",
    "    name=\"Math Tutor\",\n",
    "    instructions=\"You are a professional cover letter writer who specializes in highlighting applicant skills as they relate to job descriptions in under 425 words.\",\n",
    "    model=\"gpt-3.5-turbo\"\n",
    ")\n",
    "\n",
    "thread = client.beta.threads.create()\n",
    "\n",
    "# building a strong prompt\n",
    "message = client.beta.threads.messages.create(\n",
    "    thread_id=thread.id,\n",
    "    role=\"user\",\n",
    "    content=f\"\"\"\n",
    "Please write an impressive cover letter for the client given the material below. Specifically, focus on the skills and experiences that directly match the job requirements, emphasizing data analysis and data science capabilities. Tailor the language to be professional, engaging, and persuasive, demonstrating a strong understanding of the role and the candidate's ability to add value to the company.\n",
    "\n",
    "\\n Here is the given material:\n",
    "\n",
    "\\n {template}\n",
    "\n",
    "\\n {work_exp_content}\n",
    "\n",
    "\\n {job_desc_content}\n",
    "\"\"\"\n",
    ")\n",
    "\n",
    "# assigning run components\n",
    "run = client.beta.threads.runs.create(\n",
    "    thread_id=thread.id,\n",
    "    assistant_id=assistant.id,\n",
    ")\n",
    "\n",
    "# printing updating results\n",
    "print(\"checking assistant status. \")\n",
    "while True:\n",
    "    run = client.beta.threads.runs.retrieve(thread_id=thread.id, run_id=run.id)\n",
    "\n",
    "    if run.status == \"completed\":\n",
    "        print(\"done!\")\n",
    "        messages = client.beta.threads.messages.list(thread_id=thread.id)\n",
    "        break\n",
    "    else:\n",
    "        print(\"in progress...\")\n",
    "        time.sleep(10)\n",
    "\n",
    "# extracting the cover letter\n",
    "for message in messages:\n",
    "    if message.role == \"assistant\": # check if it's the assistant's response\n",
    "        cover_letter_text = message.content[0].text.value\n",
    "        break  # exit the loop after finding the cover letter"
   ]
  },
  {
   "cell_type": "code",
   "execution_count": 108,
   "id": "a87afd0e-bd3f-4fb4-bca3-bfa7e925c9c4",
   "metadata": {},
   "outputs": [
    {
     "name": "stdout",
     "output_type": "stream",
     "text": [
      "Dear Hiring Manager,\n",
      "\n",
      "I am writing to express my strong interest in the Data Analyst II (SQL) position at Fidelis Care. With my expertise in data analysis and data science, I believe I can contribute significantly to the company's mission of improving clinical outcomes and reducing the overall cost of care for members.\n",
      "\n",
      "As a Data Analyst at the Computational Social Neuroscience Lab, I have gained extensive experience in executing complex data analysis projects. I have designed and implemented sophisticated R scripts, analyzing over 200 million data points to uncover insights in computational neuroscience. I have also optimized scripts for supercomputing efficiency, contributing to research with a substantial budget. My expertise in Python (Pandas, NumPy, Scikit-learn) and R (Tidyverse, ggplot2) allows me to efficiently analyze and visualize data, providing valuable insights for decision-making.\n",
      "\n",
      "In addition, my experience as a Student Office Assistant for the Vice President of Research at the University of Oregon has honed my project management and organizational skills. I have utilized Microsoft Excel and Power Automate to streamline office operations, developed intranet sites with SharePoint for enhanced organization, and conducted qualitative research through Qualtrics surveys. My ability to efficiently manage multiple tasks with limited supervision and communicate findings to non-technical stakeholders will be valuable in supporting the execution of large-scale projects at Fidelis Care.\n",
      "\n",
      "Furthermore, as a Volunteer Data Scientist at the Hendon Materials Simulation Lab, I have developed machine learning models using Natural Language Processing and achieved a 19% improvement in performance by optimizing hyperparameters. With my proficiency in Python programming and statistical analysis, I can effectively extract insights from integrated datasets and perform root-cause analysis to drive data-driven decision-making.\n",
      "\n",
      "I hold a Bachelor's degree in Data Science with a concentration in Economics from the University of Oregon. My academic projects, such as developing a website and app for a national conference and engineering an NBA Game Score prediction model, demonstrate my ability to apply data analysis techniques in real-world contexts.\n",
      "\n",
      "I am excited about the opportunity to contribute to Fidelis Care's mission and utilize my skills in data analysis and data science. Thank you for considering my application. I look forward to the possibility of discussing how I can add value to your team.\n",
      "\n",
      "Best regards,\n",
      "\n",
      "Michael Saccio\n",
      "michaeljsaccio@gmail.com\n",
      "https://www.linkedin.com/in/michael-saccio-623157200/\n",
      "https://github.com/michaelsaccio?tab=repositories\n"
     ]
    }
   ],
   "source": [
    "print(cover_letter_text)"
   ]
  },
  {
   "cell_type": "markdown",
   "id": "7dba21a8-eb98-4653-8245-941aa057375d",
   "metadata": {},
   "source": [
    "#### Exporting as a Formatted PDF"
   ]
  },
  {
   "cell_type": "code",
   "execution_count": 109,
   "id": "b50ebf74-3797-411f-bdea-26e52a3badcb",
   "metadata": {},
   "outputs": [
    {
     "name": "stdout",
     "output_type": "stream",
     "text": [
      "Cover letter saved as cover_letter.pdf\n"
     ]
    }
   ],
   "source": [
    "# create a PDF object\n",
    "pdf = FPDF()\n",
    "\n",
    "# define common margin size (in centimeters)\n",
    "left_margin = 25.4\n",
    "right_margin = 25.4\n",
    "top_margin = 25.4\n",
    "bottom_margin = 25.4\n",
    "\n",
    "# set margins\n",
    "pdf.set_margins(left_margin, top_margin, right_margin)\n",
    "\n",
    "# add a page\n",
    "pdf.add_page()\n",
    "\n",
    "# set font and font size\n",
    "pdf.set_font(\"Times\", size=12)\n",
    "\n",
    "# write the cover letter text\n",
    "pdf.write(5, cover_letter_text)\n",
    "\n",
    "# save the PDF\n",
    "pdf.output(\"cover_letter.pdf\")\n",
    "\n",
    "# completion message\n",
    "print(\"Cover letter saved as cover_letter.pdf\")"
   ]
  }
 ],
 "metadata": {
  "kernelspec": {
   "display_name": "Python 3 (ipykernel)",
   "language": "python",
   "name": "python3"
  },
  "language_info": {
   "codemirror_mode": {
    "name": "ipython",
    "version": 3
   },
   "file_extension": ".py",
   "mimetype": "text/x-python",
   "name": "python",
   "nbconvert_exporter": "python",
   "pygments_lexer": "ipython3",
   "version": "3.11.5"
  }
 },
 "nbformat": 4,
 "nbformat_minor": 5
}
